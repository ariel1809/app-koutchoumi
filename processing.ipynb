{
 "cells": [
  {
   "cell_type": "code",
   "id": "initial_id",
   "metadata": {
    "collapsed": true,
    "jupyter": {
     "is_executing": true
    }
   },
   "source": [
    "import mysql.connector\n",
    "import pandas as pd\n",
    "\n",
    "# 1. Connexion à la base de données MySQL\n",
    "connection = mysql.connector.connect(\n",
    "    host=\"localhost\",           # Adresse du serveur MySQL\n",
    "    user=\"root\",                # Nom d'utilisateur MySQL\n",
    "    password=\"\",  # Mot de passe MySQL\n",
    "    database=\"scrapDB\"   # Nom de la base de données\n",
    ")\n",
    "\n",
    "# 2. Créer un curseur pour exécuter la requête SQL\n",
    "cursor = connection.cursor()\n",
    "\n",
    "# 3. Exécuter la requête SQL pour récupérer les données de la table\n",
    "query = \"SELECT * FROM nom_de_la_table\"\n",
    "cursor.execute(query)\n",
    "\n",
    "# 4. Récupérer les résultats de la requête\n",
    "results = cursor.fetchall()\n",
    "\n",
    "# 5. Récupérer les noms des colonnes\n",
    "column_names = [desc[0] for desc in cursor.description]\n",
    "\n",
    "# 6. Convertir les résultats en DataFrame (dataset)\n",
    "df = pd.DataFrame(results, columns=column_names)\n",
    "# 8. Fermer la connexion\n",
    "cursor.close()\n",
    "connection.close()\n"
   ],
   "outputs": [],
   "execution_count": null
  },
  {
   "metadata": {},
   "cell_type": "code",
   "outputs": [],
   "execution_count": null,
   "source": "df.head()",
   "id": "d10ee66923496142"
  }
 ],
 "metadata": {
  "kernelspec": {
   "display_name": "Python 3",
   "language": "python",
   "name": "python3"
  },
  "language_info": {
   "codemirror_mode": {
    "name": "ipython",
    "version": 2
   },
   "file_extension": ".py",
   "mimetype": "text/x-python",
   "name": "python",
   "nbconvert_exporter": "python",
   "pygments_lexer": "ipython2",
   "version": "2.7.6"
  }
 },
 "nbformat": 4,
 "nbformat_minor": 5
}
